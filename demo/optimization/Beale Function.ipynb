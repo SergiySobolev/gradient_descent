{
 "cells": [
  {
   "cell_type": "code",
   "execution_count": null,
   "metadata": {
    "collapsed": true
   },
   "outputs": [],
   "source": [
    "import numpy as np\n",
    "import plotly.graph_objs as go\n",
    "from plotly.offline import init_notebook_mode, iplot"
   ]
  },
  {
   "cell_type": "code",
   "execution_count": 84,
   "metadata": {
    "collapsed": true
   },
   "outputs": [
    {
     "data": {
      "text/html": [
       "<script>requirejs.config({paths: { 'plotly': ['https://cdn.plot.ly/plotly-latest.min']},});if(!window.Plotly) {{require(['plotly'],function(plotly) {window.Plotly=plotly;});}}</script>"
      ],
      "text/plain": [
       "<script>requirejs.config({paths: { 'plotly': ['https://cdn.plot.ly/plotly-latest.min']},});if(!window.Plotly) {{require(['plotly'],function(plotly) {window.Plotly=plotly;});}}</script>"
      ]
     },
     "execution_count": 0,
     "metadata": {},
     "output_type": "execute_result"
    }
   ],
   "source": [
    "init_notebook_mode(connected=True)\n"
   ]
  },
  {
   "cell_type": "code",
   "execution_count": 85,
   "metadata": {
    "collapsed": true
   },
   "outputs": [],
   "source": [
    "def beale_function(t):\n",
    "    a = 1.5\n",
    "    b = 2.25\n",
    "    c = 2.625\n",
    "    return (a - t[0] + t[0] * t[1]) ** 2 \\\n",
    "           + (b - t[0] + t[0] * t[1] ** 2) ** 2 \\\n",
    "           + (c - t[0] + t[0] * t[1] ** 3) ** 2\n",
    "\n",
    "\n",
    "def calc_gradient_beale(t):\n",
    "    a = 1.5\n",
    "    b = 2.25\n",
    "    c = 2.625\n",
    "\n",
    "    g0 = 2 * (a - t[0] + t[0] * t[1]) * (t[1] - 1) \\\n",
    "         + 2 * (b - t[0] + t[0] * t[1] ** 2) * (t[1] ** 2 - 1) \\\n",
    "         + 2 * (c - t[0] + t[0] * t[1] ** 3) * (t[1] ** 3 - 1)\n",
    "\n",
    "    g1_1 = 2 * t[0] * (a - t[0] + t[0] * t[1])\n",
    "    g1_2 = 4 * t[0]*t[1] * (b - t[0] + t[0] * t[1] ** 2)\n",
    "    g1_3 = 6 * t[0]*t[1]*t[1] * (c - t[0] + t[0] * t[1] ** 3)\n",
    "    g1 = g1_1 + g1_2 + g1_3\n",
    "\n",
    "    return [g0, g1]\n"
   ]
  },
  {
   "cell_type": "code",
   "execution_count": 86,
   "metadata": {
    "collapsed": true
   },
   "outputs": [],
   "source": [
    "def step(v, direction, learning_rate):\n",
    "    return v - direction * np.asarray(learning_rate)\n",
    "\n",
    "\n",
    "def is_points_not_close_enough(cur_x, next_x, tolerance):\n",
    "    a_cur_x = np.asarray(cur_x)\n",
    "    a_next_x = np.asarray(next_x)\n",
    "    distance = np.asarray(a_cur_x - a_next_x)\n",
    "    distance_s = np.abs(np.sum(distance))\n",
    "    return distance_s > tolerance\n",
    "\n",
    "\n",
    "def gradient_descent_multiple_variable(func_calc_gradient, func, start_x=(-4, -5), tolerance=0.00001,\n",
    "                                       learning_rate=(0.01, 0.01)):\n",
    "    cur_x = start_x\n",
    "    convergence_path = [cur_x]\n",
    "    is_not_converged = True\n",
    "\n",
    "    while is_not_converged:\n",
    "        cur_gradient = func_calc_gradient(cur_x)\n",
    "        next_x = step(cur_x, cur_gradient, learning_rate)\n",
    "        is_not_converged = is_points_not_close_enough(cur_x, next_x, tolerance)\n",
    "        convergence_path.append(next_x)\n",
    "        cur_x = next_x\n",
    "    return cur_x, func(cur_x), convergence_path"
   ]
  },
  {
   "cell_type": "code",
   "execution_count": 1,
   "metadata": {
    "collapsed": true
   },
   "outputs": [
    {
     "ename": "NameError",
     "evalue": "name 'np' is not defined",
     "traceback": [
      "\u001b[0;31m---------------------------------------------------------------------------\u001b[0m",
      "\u001b[0;31mNameError\u001b[0m                                 Traceback (most recent call last)",
      "\u001b[0;32m<ipython-input-1-2b169d71b131>\u001b[0m in \u001b[0;36m<module>\u001b[0;34m()\u001b[0m\n\u001b[0;32m----> 1\u001b[0;31m \u001b[0mt1\u001b[0m \u001b[0;34m=\u001b[0m \u001b[0mnp\u001b[0m\u001b[0;34m.\u001b[0m\u001b[0marange\u001b[0m\u001b[0;34m(\u001b[0m\u001b[0;34m-\u001b[0m\u001b[0;36m6\u001b[0m\u001b[0;34m,\u001b[0m \u001b[0;36m6\u001b[0m\u001b[0;34m,\u001b[0m \u001b[0;36m0.5\u001b[0m\u001b[0;34m)\u001b[0m\u001b[0;34m\u001b[0m\u001b[0m\n\u001b[0m\u001b[1;32m      2\u001b[0m \u001b[0mt2\u001b[0m \u001b[0;34m=\u001b[0m \u001b[0mnp\u001b[0m\u001b[0;34m.\u001b[0m\u001b[0marange\u001b[0m\u001b[0;34m(\u001b[0m\u001b[0;34m-\u001b[0m\u001b[0;36m6\u001b[0m\u001b[0;34m,\u001b[0m \u001b[0;36m6\u001b[0m\u001b[0;34m,\u001b[0m \u001b[0;36m0.5\u001b[0m\u001b[0;34m)\u001b[0m\u001b[0;34m\u001b[0m\u001b[0m\n",
      "\u001b[0;31mNameError\u001b[0m: name 'np' is not defined"
     ],
     "output_type": "error"
    }
   ],
   "source": [
    "t1 = np.arange(-6, 6, 0.5)\n",
    "t2 = np.arange(-6, 6, 0.5)\n"
   ]
  },
  {
   "cell_type": "code",
   "execution_count": 88,
   "metadata": {
    "collapsed": true
   },
   "outputs": [],
   "source": [
    "x,y = np.meshgrid(t1, t2)\n",
    "z = beale_function([x,y])\n"
   ]
  },
  {
   "cell_type": "code",
   "execution_count": 2,
   "metadata": {
    "collapsed": true
   },
   "outputs": [
    {
     "ename": "NameError",
     "evalue": "name 'beale_function' is not defined",
     "traceback": [
      "\u001b[0;31m---------------------------------------------------------------------------\u001b[0m",
      "\u001b[0;31mNameError\u001b[0m                                 Traceback (most recent call last)",
      "\u001b[0;32m<ipython-input-2-d7f6cdb1a830>\u001b[0m in \u001b[0;36m<module>\u001b[0;34m()\u001b[0m\n\u001b[1;32m      1\u001b[0m \u001b[0ms_a\u001b[0m  \u001b[0;34m=\u001b[0m \u001b[0;34m(\u001b[0m\u001b[0;34m-\u001b[0m\u001b[0;36m4\u001b[0m\u001b[0;34m,\u001b[0m \u001b[0;34m-\u001b[0m\u001b[0;36m5\u001b[0m\u001b[0;34m)\u001b[0m\u001b[0;34m\u001b[0m\u001b[0m\n\u001b[0;32m----> 2\u001b[0;31m \u001b[0ms_a_v\u001b[0m \u001b[0;34m=\u001b[0m \u001b[0mbeale_function\u001b[0m\u001b[0;34m(\u001b[0m\u001b[0ms_a\u001b[0m\u001b[0;34m)\u001b[0m\u001b[0;34m\u001b[0m\u001b[0m\n\u001b[0m",
      "\u001b[0;31mNameError\u001b[0m: name 'beale_function' is not defined"
     ],
     "output_type": "error"
    }
   ],
   "source": [
    "s_a  = (-4, -5)\n",
    "s_a_v = beale_function(s_a)\n"
   ]
  },
  {
   "cell_type": "code",
   "execution_count": null,
   "metadata": {
    "collapsed": true
   },
   "outputs": [],
   "source": [
    "min_x, min_f, c_path = gradient_descent_multiple_variable(func_calc_gradient=calc_gradient_beale,\n",
    "                                                     func=beale_function, \n",
    "                                                     start_x=s_a,\n",
    "                                                     learning_rate=(0.00001, 0.00001),     \n",
    "                                                     tolerance=0.00000005)\n",
    "rate = len(c_path)/50\n",
    "c_s_path = c_path[::rate]"
   ]
  },
  {
   "cell_type": "code",
   "execution_count": 91,
   "metadata": {
    "collapsed": true
   },
   "outputs": [],
   "source": [
    "\n",
    "func_trace = go.Surface(x=x, y=y, z=z, colorscale='Viridis', opacity=0.8)\n"
   ]
  },
  {
   "cell_type": "code",
   "execution_count": 92,
   "metadata": {
    "collapsed": true
   },
   "outputs": [],
   "source": [
    "minimum_trace = go.Scatter3d(\n",
    "    x=[min_x[0]],\n",
    "    y=[min_x[1]],\n",
    "    z=[min_f],  \n",
    "    marker=dict(\n",
    "        color='red',\n",
    "        size=7,\n",
    "        symbol=\"circle\"\n",
    "    ),\n",
    "    name=\"Minimum\",\n",
    "    text=\"Minimum\"\n",
    ")\n"
   ]
  },
  {
   "cell_type": "code",
   "execution_count": 93,
   "metadata": {
    "collapsed": true
   },
   "outputs": [],
   "source": [
    "s_a_trace = go.Scatter3d(\n",
    "    x=[s_a[0]],\n",
    "    y=[s_a[1]],\n",
    "    z=[s_a_v],  \n",
    "    marker=dict(\n",
    "        color='blue',\n",
    "        size=7,\n",
    "        symbol=\"circle\"\n",
    "    ),\n",
    "    name=\"Start approximation\",\n",
    "    text=\"Start approximation\"\n",
    ")\n"
   ]
  },
  {
   "cell_type": "code",
   "execution_count": 96,
   "metadata": {
    "collapsed": true
   },
   "outputs": [],
   "source": [
    "convergence_path_trace = go.Scatter3d(\n",
    "    x=np.transpose(c_s_path)[0],\n",
    "    y=np.transpose(c_s_path)[1],\n",
    "    z=list(map(beale_function, c_s_path)),  \n",
    "    marker=dict(\n",
    "        color='yellow',\n",
    "        size=4,\n",
    "        symbol=\"circle\"\n",
    "    ),\n",
    "    name=\"Convergence path\",\n",
    "    text=\"Convergence path\"\n",
    ")\n"
   ]
  },
  {
   "cell_type": "code",
   "execution_count": null,
   "metadata": {
    "collapsed": true
   },
   "outputs": [],
   "source": [
    "layout = go.Layout(\n",
    "    legend=dict(x=-.1, y=1.2),\n",
    "    autosize=False,\n",
    "    width=1000,\n",
    "    height=1000,\n",
    "    margin=go.layout.Margin(\n",
    "        l=50,\n",
    "        r=50,\n",
    "        b=100,\n",
    "        t=100,\n",
    "        pad=4\n",
    "    )\n",
    ")\n",
    "\n"
   ]
  },
  {
   "cell_type": "code",
   "execution_count": 99,
   "metadata": {
    "collapsed": true
   },
   "outputs": [],
   "source": [
    "fig = go.Figure(data=[func_trace, s_a_trace, minimum_trace,convergence_path_trace], \n",
    "                 layout=layout)\n",
    "iplot(fig)\n",
    "\n"
   ]
  },
  {
   "cell_type": "code",
   "execution_count": null,
   "metadata": {},
   "outputs": [],
   "source": []
  }
 ],
 "metadata": {
  "kernelspec": {
   "display_name": "Python 2",
   "language": "python",
   "name": "python2"
  },
  "language_info": {
   "codemirror_mode": {
    "name": "ipython",
    "version": 2
   },
   "file_extension": ".py",
   "mimetype": "text/x-python",
   "name": "python",
   "nbconvert_exporter": "python",
   "pygments_lexer": "ipython2",
   "version": "2.7.6"
  }
 },
 "nbformat": 4,
 "nbformat_minor": 0
}
