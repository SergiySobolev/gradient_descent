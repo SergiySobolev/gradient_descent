{
 "cells": [
  {
   "cell_type": "code",
   "execution_count": 1,
   "metadata": {},
   "outputs": [],
   "source": [
    "import numpy as np\n",
    "import plotly.graph_objs as go\n",
    "from plotly.offline import init_notebook_mode, iplot"
   ]
  },
  {
   "cell_type": "code",
   "execution_count": 2,
   "metadata": {},
   "outputs": [
    {
     "data": {
      "text/html": [
       "<script>requirejs.config({paths: { 'plotly': ['https://cdn.plot.ly/plotly-latest.min']},});if(!window.Plotly) {{require(['plotly'],function(plotly) {window.Plotly=plotly;});}}</script>"
      ]
     },
     "metadata": {},
     "output_type": "execute_result"
    }
   ],
   "source": [
    "init_notebook_mode(connected=True)\n"
   ]
  },
  {
   "cell_type": "code",
   "execution_count": 3,
   "metadata": {},
   "outputs": [],
   "source": [
    "def mccormik_function(t):\n",
    "    x = t[0]\n",
    "    y = t[1]\n",
    "    return np.sin(x + y) \\\n",
    "           + np.square(x - y) \\\n",
    "           - 1.5 * x \\\n",
    "           + 2.5 * y \\\n",
    "           + 1\n",
    "\n",
    "\n",
    "def calc_gradient_mccormik_function(t):\n",
    "    x = t[0]\n",
    "    y = t[1]\n",
    "    return [np.cos(x + y) + 2*(x - y) - 1.5, np.cos(x + y) - 2*(x - y) + 2.5]\n"
   ]
  },
  {
   "cell_type": "code",
   "execution_count": 4,
   "metadata": {},
   "outputs": [],
   "source": [
    "def step(v, direction, learning_rate):\n",
    "    return v - direction * np.asarray(learning_rate)\n",
    "\n",
    "\n",
    "def is_points_not_close_enough(cur_x, next_x, tolerance):\n",
    "    a_cur_x = np.asarray(cur_x)\n",
    "    a_next_x = np.asarray(next_x)\n",
    "    distance = np.asarray(a_cur_x - a_next_x)\n",
    "    distance_s = np.abs(np.sum(distance))\n",
    "    return distance_s > tolerance\n",
    "\n",
    "\n",
    "def gradient_descent_multiple_variable(func_calc_gradient, func, start_x=(-4, -5), tolerance=0.00001,\n",
    "                                       learning_rate=(0.01, 0.01)):\n",
    "    cur_x = start_x\n",
    "    convergence_path = [cur_x]\n",
    "    is_not_converged = True\n",
    "\n",
    "    while is_not_converged:\n",
    "        cur_gradient = func_calc_gradient(cur_x)\n",
    "        next_x = step(cur_x, cur_gradient, learning_rate)\n",
    "        is_not_converged = is_points_not_close_enough(cur_x, next_x, tolerance)\n",
    "        convergence_path.append(next_x)\n",
    "        cur_x = next_x\n",
    "    return cur_x, func(cur_x), convergence_path"
   ]
  },
  {
   "cell_type": "code",
   "execution_count": 5,
   "metadata": {},
   "outputs": [],
   "source": [
    "t1 = np.arange(-3, 4, 0.5)\n",
    "t2 = np.arange(-3, 4, 0.5)\n"
   ]
  },
  {
   "cell_type": "code",
   "execution_count": 6,
   "metadata": {},
   "outputs": [],
   "source": [
    "x,y = np.meshgrid(t1, t2)\n",
    "z = mccormik_function([x,y])\n"
   ]
  },
  {
   "cell_type": "code",
   "execution_count": 7,
   "metadata": {},
   "outputs": [],
   "source": [
    "s_a  = (-2.5, 3.5)\n",
    "s_a_v = mccormik_function(s_a)\n"
   ]
  },
  {
   "cell_type": "code",
   "execution_count": 8,
   "metadata": {},
   "outputs": [],
   "source": [
    "min_x, min_f, c_s_path = gradient_descent_multiple_variable(func_calc_gradient=calc_gradient_mccormik_function,\n",
    "                                                     func=mccormik_function, \n",
    "                                                     start_x=s_a,\n",
    "                                                     learning_rate=(0.01, 0.01),     \n",
    "                                                     tolerance=0.00001)"
   ]
  },
  {
   "cell_type": "code",
   "execution_count": 9,
   "metadata": {},
   "outputs": [],
   "source": [
    "\n",
    "func_trace = go.Surface(x=x, y=y, z=z, colorscale='Viridis', opacity=0.8)\n"
   ]
  },
  {
   "cell_type": "code",
   "execution_count": 10,
   "metadata": {},
   "outputs": [],
   "source": [
    "minimum_trace = go.Scatter3d(\n",
    "    x=[min_x[0]],\n",
    "    y=[min_x[1]],\n",
    "    z=[min_f],  \n",
    "    marker=dict(\n",
    "        color='red',\n",
    "        size=7,\n",
    "        symbol=\"circle\"\n",
    "    ),\n",
    "    name=\"Minimum\",\n",
    "    text=\"Minimum\"\n",
    ")\n"
   ]
  },
  {
   "cell_type": "code",
   "execution_count": 11,
   "metadata": {},
   "outputs": [],
   "source": [
    "s_a_trace = go.Scatter3d(\n",
    "    x=[s_a[0]],\n",
    "    y=[s_a[1]],\n",
    "    z=[s_a_v],  \n",
    "    marker=dict(\n",
    "        color='blue',\n",
    "        size=7,\n",
    "        symbol=\"circle\"\n",
    "    ),\n",
    "    name=\"Start approximation\",\n",
    "    text=\"Start approximation\"\n",
    ")\n"
   ]
  },
  {
   "cell_type": "code",
   "execution_count": 12,
   "metadata": {},
   "outputs": [],
   "source": [
    "convergence_path_trace = go.Scatter3d(\n",
    "    x=np.transpose(c_s_path)[0],\n",
    "    y=np.transpose(c_s_path)[1],\n",
    "    z=list(map(mccormik_function, c_s_path)),  \n",
    "    marker=dict(\n",
    "        color='yellow',\n",
    "        size=4,\n",
    "        symbol=\"circle\"\n",
    "    ),\n",
    "    name=\"Convergence path\",\n",
    "    text=\"Convergence path\"\n",
    ")\n"
   ]
  },
  {
   "cell_type": "code",
   "execution_count": 13,
   "metadata": {},
   "outputs": [],
   "source": [
    "layout = go.Layout(\n",
    "    legend=dict(x=-.1, y=1.2),\n",
    "    autosize=False,\n",
    "    width=1000,\n",
    "    height=1000,\n",
    "    margin=go.layout.Margin(\n",
    "        l=50,\n",
    "        r=50,\n",
    "        b=100,\n",
    "        t=100,\n",
    "        pad=4\n",
    "    )\n",
    ")\n",
    "\n"
   ]
  },
  {
   "cell_type": "code",
   "execution_count": 14,
   "metadata": {},
   "outputs": [
    {
     "data": {
      "text/html": [
       "<div id=\"08ac84b4-2ac2-4b6f-8b58-33726d7e214c\" style=\"height: 1000px; width: 1000px;\" class=\"plotly-graph-div\"></div><script type=\"text/javascript\">require([\"plotly\"], function(Plotly) { window.PLOTLYENV=window.PLOTLYENV || {};window.PLOTLYENV.BASE_URL=\"https://plot.ly\";Plotly.newPlot(\"08ac84b4-2ac2-4b6f-8b58-33726d7e214c\", [{\"colorscale\": \"Viridis\", \"opacity\": 0.8, \"x\": [[-3.0, -2.5, -2.0, -1.5, -1.0, -0.5, 0.0, 0.5, 1.0, 1.5, 2.0, 2.5, 3.0, 3.5], [-3.0, -2.5, -2.0, -1.5, -1.0, -0.5, 0.0, 0.5, 1.0, 1.5, 2.0, 2.5, 3.0, 3.5], [-3.0, -2.5, -2.0, -1.5, -1.0, -0.5, 0.0, 0.5, 1.0, 1.5, 2.0, 2.5, 3.0, 3.5], [-3.0, -2.5, -2.0, -1.5, -1.0, -0.5, 0.0, 0.5, 1.0, 1.5, 2.0, 2.5, 3.0, 3.5], [-3.0, -2.5, -2.0, -1.5, -1.0, -0.5, 0.0, 0.5, 1.0, 1.5, 2.0, 2.5, 3.0, 3.5], [-3.0, -2.5, -2.0, -1.5, -1.0, -0.5, 0.0, 0.5, 1.0, 1.5, 2.0, 2.5, 3.0, 3.5], [-3.0, -2.5, -2.0, -1.5, -1.0, -0.5, 0.0, 0.5, 1.0, 1.5, 2.0, 2.5, 3.0, 3.5], [-3.0, -2.5, -2.0, -1.5, -1.0, -0.5, 0.0, 0.5, 1.0, 1.5, 2.0, 2.5, 3.0, 3.5], [-3.0, -2.5, -2.0, -1.5, -1.0, -0.5, 0.0, 0.5, 1.0, 1.5, 2.0, 2.5, 3.0, 3.5], [-3.0, -2.5, -2.0, -1.5, -1.0, -0.5, 0.0, 0.5, 1.0, 1.5, 2.0, 2.5, 3.0, 3.5], [-3.0, -2.5, -2.0, -1.5, -1.0, -0.5, 0.0, 0.5, 1.0, 1.5, 2.0, 2.5, 3.0, 3.5], [-3.0, -2.5, -2.0, -1.5, -1.0, -0.5, 0.0, 0.5, 1.0, 1.5, 2.0, 2.5, 3.0, 3.5], [-3.0, -2.5, -2.0, -1.5, -1.0, -0.5, 0.0, 0.5, 1.0, 1.5, 2.0, 2.5, 3.0, 3.5], [-3.0, -2.5, -2.0, -1.5, -1.0, -0.5, 0.0, 0.5, 1.0, 1.5, 2.0, 2.5, 3.0, 3.5]], \"y\": [[-3.0, -3.0, -3.0, -3.0, -3.0, -3.0, -3.0, -3.0, -3.0, -3.0, -3.0, -3.0, -3.0, -3.0], [-2.5, -2.5, -2.5, -2.5, -2.5, -2.5, -2.5, -2.5, -2.5, -2.5, -2.5, -2.5, -2.5, -2.5], [-2.0, -2.0, -2.0, -2.0, -2.0, -2.0, -2.0, -2.0, -2.0, -2.0, -2.0, -2.0, -2.0, -2.0], [-1.5, -1.5, -1.5, -1.5, -1.5, -1.5, -1.5, -1.5, -1.5, -1.5, -1.5, -1.5, -1.5, -1.5], [-1.0, -1.0, -1.0, -1.0, -1.0, -1.0, -1.0, -1.0, -1.0, -1.0, -1.0, -1.0, -1.0, -1.0], [-0.5, -0.5, -0.5, -0.5, -0.5, -0.5, -0.5, -0.5, -0.5, -0.5, -0.5, -0.5, -0.5, -0.5], [0.0, 0.0, 0.0, 0.0, 0.0, 0.0, 0.0, 0.0, 0.0, 0.0, 0.0, 0.0, 0.0, 0.0], [0.5, 0.5, 0.5, 0.5, 0.5, 0.5, 0.5, 0.5, 0.5, 0.5, 0.5, 0.5, 0.5, 0.5], [1.0, 1.0, 1.0, 1.0, 1.0, 1.0, 1.0, 1.0, 1.0, 1.0, 1.0, 1.0, 1.0, 1.0], [1.5, 1.5, 1.5, 1.5, 1.5, 1.5, 1.5, 1.5, 1.5, 1.5, 1.5, 1.5, 1.5, 1.5], [2.0, 2.0, 2.0, 2.0, 2.0, 2.0, 2.0, 2.0, 2.0, 2.0, 2.0, 2.0, 2.0, 2.0], [2.5, 2.5, 2.5, 2.5, 2.5, 2.5, 2.5, 2.5, 2.5, 2.5, 2.5, 2.5, 2.5, 2.5], [3.0, 3.0, 3.0, 3.0, 3.0, 3.0, 3.0, 3.0, 3.0, 3.0, 3.0, 3.0, 3.0, 3.0], [3.5, 3.5, 3.5, 3.5, 3.5, 3.5, 3.5, 3.5, 3.5, 3.5, 3.5, 3.5, 3.5, 3.5]], \"z\": [[-1.7205845018010741, -1.794459674429608, -1.5410757253368619, -1.022469882334903, -0.24319750469207158, 0.8507832276896199, 2.3588799919401335, 4.401527855896044, 7.090702573174319, 10.502505013395947, 14.658529015192105, 19.520574461395796, 25.0, 30.979425538604204], [0.20554032557039204, -0.5410757253368619, -1.022469882334903, -1.2431975046920716, -1.14921677231038, -0.6411200080598674, 0.40152785589604356, 2.090702573174319, 4.502505013395945, 7.658529015192103, 11.520574461395796, 16.0, 20.979425538604204, 26.3414709848079], [2.458924274663138, 0.977530117665097, -0.24319750469207158, -1.14921677231038, -1.6411200080598674, -1.5984721441039564, -0.9092974268256819, 0.5025050133959459, 2.6585290151921033, 5.520574461395796, 9.0, 12.979425538604204, 17.341470984807895, 21.997494986604053], [4.977530117665097, 2.7568024953079284, 0.8507832276896199, -0.6411200080598674, -1.5984721441039564, -1.909297426825682, -1.4974949866040546, -0.3414709848078967, 1.520574461395797, 4.0, 6.979425538604204, 10.341470984807895, 13.997494986604053, 17.90929742682568], [7.756802495307928, 4.85078322768962, 2.3588799919401326, 0.40152785589604356, -0.9092974268256817, -1.4974949866040546, -1.3414709848078967, -0.479425538604203, 1.0, 2.979425538604203, 5.341470984807897, 7.997494986604055, 10.909297426825681, 14.098472144103958], [10.85078322768962, 7.358879991940133, 4.401527855896044, 2.090702573174318, 0.5025050133959456, -0.3414709848078965, -0.479425538604203, 0.0, 0.979425538604203, 2.3414709848078967, 3.997494986604054, 5.909297426825681, 8.098472144103956, 10.641120008059868], [14.358879991940134, 10.401527855896044, 7.090702573174318, 4.502505013395945, 2.6585290151921033, 1.520574461395797, 1.0, 0.979425538604203, 1.3414709848078965, 1.9974949866040546, 2.909297426825682, 4.098472144103956, 5.6411200080598665, 7.64921677231038], [18.401527855896042, 14.090702573174319, 10.502505013395947, 7.658529015192103, 5.520574461395797, 4.0, 2.979425538604203, 2.3414709848078967, 1.9974949866040546, 1.9092974268256817, 2.0984721441039564, 2.6411200080598674, 3.64921677231038, 5.243197504692072], [23.09070257317432, 18.502505013395947, 14.658529015192103, 11.520574461395796, 9.0, 6.979425538604203, 5.341470984807897, 3.9974949866040546, 2.909297426825682, 2.0984721441039564, 1.6411200080598671, 1.64921677231038, 2.2431975046920716, 3.522469882334903], [28.502505013395947, 23.6585290151921, 19.520574461395796, 16.0, 12.979425538604204, 10.341470984807897, 7.997494986604055, 5.909297426825682, 4.098472144103956, 2.6411200080598674, 1.64921677231038, 1.2431975046920716, 1.522469882334903, 2.5410757253368614], [34.6585290151921, 29.520574461395796, 25.0, 20.979425538604204, 17.3414709848079, 13.997494986604053, 10.909297426825681, 8.098472144103956, 5.641120008059867, 3.64921677231038, 2.2431975046920716, 1.522469882334903, 1.5410757253368619, 2.294459674429608], [41.520574461395796, 36.0, 30.979425538604204, 26.341470984807895, 21.997494986604053, 17.90929742682568, 14.098472144103956, 10.641120008059868, 7.64921677231038, 5.243197504692072, 3.522469882334903, 2.541075725336862, 2.294459674429608, 2.720584501801074], [49.0, 42.979425538604204, 37.3414709848079, 31.997494986604053, 26.90929742682568, 22.098472144103958, 17.641120008059865, 13.64921677231038, 10.243197504692072, 7.522469882334903, 5.541075725336862, 4.294459674429608, 3.720584501801074, 3.7151199880878156], [56.979425538604204, 50.3414709848079, 43.99749498660405, 37.90929742682568, 32.09847214410396, 26.64112000805987, 21.649216772310382, 17.24319750469207, 13.522469882334903, 10.541075725336862, 8.294459674429607, 6.720584501801074, 5.715119988087816, 5.156986598718789]], \"type\": \"surface\", \"uid\": \"d07694f0-dd4d-11e8-ba0c-6807154f6f28\"}, {\"marker\": {\"color\": \"blue\", \"size\": 7, \"symbol\": \"circle\"}, \"name\": \"Start approximation\", \"text\": \"Start approximation\", \"x\": [4], \"y\": [5], \"z\": [8.912118485241756], \"type\": \"scatter3d\", \"uid\": \"d07694f1-dd4d-11e8-ba0c-6807154f6f28\"}, {\"marker\": {\"color\": \"red\", \"size\": 7, \"symbol\": \"circle\"}, \"name\": \"Minimum\", \"text\": \"Minimum\", \"x\": [4.000044111302619], \"y\": [4.999964111302619], \"z\": [8.91179511106598], \"type\": \"scatter3d\", \"uid\": \"d07694f2-dd4d-11e8-ba0c-6807154f6f28\"}, {\"marker\": {\"color\": \"yellow\", \"size\": 4, \"symbol\": \"circle\"}, \"name\": \"Convergence path\", \"text\": \"Convergence path\", \"x\": [4.0, 4.000044111302619], \"y\": [5.0, 4.999964111302619], \"z\": [8.912118485241756, 8.91179511106598], \"type\": \"scatter3d\", \"uid\": \"d07694f3-dd4d-11e8-ba0c-6807154f6f28\"}], {\"autosize\": false, \"height\": 1000, \"legend\": {\"x\": -0.1, \"y\": 1.2}, \"margin\": {\"b\": 100, \"l\": 50, \"pad\": 4, \"r\": 50, \"t\": 100}, \"width\": 1000}, {\"showLink\": true, \"linkText\": \"Export to plot.ly\"})});</script>"
      ]
     },
     "metadata": {},
     "output_type": "execute_result"
    }
   ],
   "source": [
    "fig = go.Figure(data=[func_trace, s_a_trace, minimum_trace, convergence_path_trace], \n",
    "                 layout=layout)\n",
    "iplot(fig)\n",
    "\n"
   ]
  },
  {
   "cell_type": "code",
   "execution_count": null,
   "metadata": {},
   "outputs": [],
   "source": []
  },
  {
   "cell_type": "code",
   "execution_count": null,
   "metadata": {},
   "outputs": [],
   "source": []
  }
 ],
 "metadata": {
  "kernelspec": {
   "display_name": "Python 3",
   "language": "python",
   "name": "python3"
  },
  "language_info": {
   "codemirror_mode": {
    "name": "ipython",
    "version": 3
   },
   "file_extension": ".py",
   "mimetype": "text/x-python",
   "name": "python",
   "nbconvert_exporter": "python",
   "pygments_lexer": "ipython3",
   "version": "3.6.4"
  }
 },
 "nbformat": 4,
 "nbformat_minor": 1
}
