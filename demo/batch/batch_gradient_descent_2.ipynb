{
 "cells": [
  {
   "cell_type": "code",
   "execution_count": null,
   "metadata": {},
   "outputs": [],
   "source": [
    "import plotly.graph_objs as go\n",
    "from plotly.offline import init_notebook_mode, iplot\n",
    "from com.sbk.gradientdescent.gradient_descent import batch_gradient_descent\n",
    "import numpy as np\n",
    "import pandas as pd"
   ]
  },
  {
   "cell_type": "code",
   "execution_count": 2,
   "metadata": {},
   "outputs": [
    {
     "data": {
      "text/html": [
       "<script>requirejs.config({paths: { 'plotly': ['https://cdn.plot.ly/plotly-latest.min']},});if(!window.Plotly) {{require(['plotly'],function(plotly) {window.Plotly=plotly;});}}</script>"
      ]
     },
     "metadata": {},
     "output_type": "execute_result"
    }
   ],
   "source": [
    "init_notebook_mode(connected=True)\n"
   ]
  },
  {
   "cell_type": "code",
   "execution_count": null,
   "metadata": {},
   "outputs": [],
   "source": [
    "url = 'https://raw.githubusercontent.com/SergiySobolev/gradient_descent/master/data/data2.csv'\n",
    "                            \n",
    "uploaded_data = pd.read_csv(url, delimiter=',')\n",
    "data = np.asarray(uploaded_data)\n",
    "x = data[:,0]\n",
    "y = data[:,1]\n",
    "z = data[:,2]\n",
    "theta0, theta1, theta2 = batch_gradient_descent(data, max_iter=1000)\n",
    "t1 = range(-5,8)\n",
    "t2 = range(-5,8)\n",
    "xv, yv = np.meshgrid(t1, t2)\n",
    "xvf = xv.flatten()\n",
    "yvf = yv.flatten()\n",
    "f=theta0+theta1*xvf+theta2*yvf \n"
   ]
  },
  {
   "cell_type": "code",
   "execution_count": 4,
   "metadata": {},
   "outputs": [],
   "source": [
    "data_trace = go.Scatter3d(\n",
    "    x=x,\n",
    "    y=y,\n",
    "    z=z,\n",
    "    mode='markers',\n",
    "    name='Input data'\n",
    ")"
   ]
  },
  {
   "cell_type": "code",
   "execution_count": null,
   "metadata": {},
   "outputs": [],
   "source": [
    "\n",
    "reg_trace=go.Mesh3d(x=xvf,y=yvf,z=f,color='red',opacity=0.5)\n"
   ]
  },
  {
   "cell_type": "code",
   "execution_count": 7,
   "metadata": {},
   "outputs": [
    {
     "data": {
      "text/html": [
       "<div id=\"b1d1d92d-cf7e-4fb7-ba62-072cff0f0657\" style=\"height: 525px; width: 100%;\" class=\"plotly-graph-div\"></div><script type=\"text/javascript\">require([\"plotly\"], function(Plotly) { window.PLOTLYENV=window.PLOTLYENV || {};window.PLOTLYENV.BASE_URL=\"https://plot.ly\";Plotly.newPlot(\"b1d1d92d-cf7e-4fb7-ba62-072cff0f0657\", [{\"color\": \"red\", \"opacity\": 0.8, \"x\": [[-2, -1, 0, 1, 2, 3, 4, 5, 6], [-2, -1, 0, 1, 2, 3, 4, 5, 6], [-2, -1, 0, 1, 2, 3, 4, 5, 6], [-2, -1, 0, 1, 2, 3, 4, 5, 6], [-2, -1, 0, 1, 2, 3, 4, 5, 6], [-2, -1, 0, 1, 2, 3, 4, 5, 6], [-2, -1, 0, 1, 2, 3, 4, 5, 6], [-2, -1, 0, 1, 2, 3, 4, 5, 6], [-2, -1, 0, 1, 2, 3, 4, 5, 6]], \"y\": [[-2, -2, -2, -2, -2, -2, -2, -2, -2], [-1, -1, -1, -1, -1, -1, -1, -1, -1], [0, 0, 0, 0, 0, 0, 0, 0, 0], [1, 1, 1, 1, 1, 1, 1, 1, 1], [2, 2, 2, 2, 2, 2, 2, 2, 2], [3, 3, 3, 3, 3, 3, 3, 3, 3], [4, 4, 4, 4, 4, 4, 4, 4, 4], [5, 5, 5, 5, 5, 5, 5, 5, 5], [6, 6, 6, 6, 6, 6, 6, 6, 6]], \"z\": [[-2.6339019415856093, -1.7290985615334677, -0.8242951814813263, 0.08050819857081515, 0.9853115786229567, 1.8901149586750978, 2.794918338727239, 3.699721718779381, 4.604525098831522], [-1.7290985615334677, -0.8242951814813263, 0.08050819857081515, 0.9853115786229566, 1.890114958675098, 2.794918338727239, 3.6997217187793807, 4.604525098831523, 5.509328478883664], [-0.8242951814813263, 0.08050819857081515, 0.9853115786229566, 1.890114958675098, 2.7949183387272396, 3.6997217187793807, 4.604525098831522, 5.509328478883664, 6.414131858935805], [0.08050819857081515, 0.9853115786229566, 1.890114958675098, 2.7949183387272396, 3.699721718779381, 4.604525098831522, 5.509328478883663, 6.414131858935805, 7.3189352389879465], [0.9853115786229566, 1.890114958675098, 2.7949183387272396, 3.699721718779381, 4.604525098831522, 5.509328478883663, 6.414131858935805, 7.318935238987947, 8.223738619040088], [1.890114958675098, 2.794918338727239, 3.6997217187793807, 4.604525098831522, 5.509328478883663, 6.414131858935805, 7.3189352389879465, 8.223738619040088, 9.12854199909223], [2.7949183387272396, 3.699721718779381, 4.604525098831522, 5.509328478883663, 6.414131858935805, 7.3189352389879465, 8.223738619040088, 9.12854199909223, 10.033345379144372], [3.699721718779381, 4.604525098831522, 5.509328478883664, 6.414131858935805, 7.318935238987947, 8.223738619040088, 9.12854199909223, 10.033345379144372, 10.938148759196512], [4.604525098831522, 5.509328478883663, 6.414131858935805, 7.3189352389879465, 8.223738619040088, 9.12854199909223, 10.033345379144372, 10.938148759196512, 11.842952139248654]], \"type\": \"mesh3d\", \"uid\": \"77310eff-d8aa-11e8-887d-6807154f6f28\"}], {}, {\"showLink\": true, \"linkText\": \"Export to plot.ly\"})});</script>"
      ]
     },
     "metadata": {},
     "output_type": "execute_result"
    }
   ],
   "source": [
    "data = [data_trace, reg_trace]\n",
    "\n",
    "iplot(data)"
   ]
  },
  {
   "cell_type": "code",
   "execution_count": null,
   "metadata": {},
   "outputs": [],
   "source": []
  }
 ],
 "metadata": {
  "kernelspec": {
   "display_name": "Python 3",
   "language": "python",
   "name": "python3"
  },
  "language_info": {
   "codemirror_mode": {
    "name": "ipython",
    "version": 3
   },
   "file_extension": ".py",
   "mimetype": "text/x-python",
   "name": "python",
   "nbconvert_exporter": "python",
   "pygments_lexer": "ipython3",
   "version": "3.6.4"
  }
 },
 "nbformat": 4,
 "nbformat_minor": 1
}
